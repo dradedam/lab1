{
  "cells": [
    {
      "cell_type": "markdown",
      "metadata": {
        "id": "M-DGa20PaHnu"
      },
      "source": [
        "#Задача 1\n",
        "Написать функцию на вход которой подается строка, состоящая из латинских букв.\n",
        "Функция должна вернуть количество гласных букв (a, e, i, o, u) в этой строке. Написать тесты для кода"
      ]
    },
    {
      "cell_type": "code",
      "execution_count": null,
      "metadata": {
        "id": "XvX8X_JJ6PCb"
      },
      "outputs": [],
      "source": [
        "vowels=['a','e','i','o','u']\n",
        "def searchVowels(str):\n",
        "  count=0\n",
        "  for i in str.lower():\n",
        "    if(i in vowels):\n",
        "      count+=1\n",
        "  return count\n",
        "def searchVowels_test():\n",
        "  assert searchVowels('Hello world') == 3\n",
        "  assert searchVowels('HElLO world')==3\n",
        "  assert searchVowels('aeiouAEIOU')==10\n",
        "  assert searchVowels('qwrty')==0\n",
        "searchVowels_test()"
      ]
    },
    {
      "cell_type": "markdown",
      "metadata": {
        "id": "t2ClV_Y0bbr6"
      },
      "source": [
        "# Задача 2\n",
        "Написать функцию на вход, которой подается строка. Функция должна вернуть true, если\n",
        "каждый символ в строке встречается только 1 раз, иначе должна вернуть false. Написать тесты для кода"
      ]
    },
    {
      "cell_type": "code",
      "execution_count": null,
      "metadata": {
        "id": "FppbECao6VIz"
      },
      "outputs": [],
      "source": [
        "def is_unique(string):\n",
        "    char_count = {}\n",
        "    for char in string:\n",
        "        if char in char_count:\n",
        "            return False\n",
        "        char_count[char] = 1\n",
        "    return True"
      ]
    },
    {
      "cell_type": "markdown",
      "metadata": {
        "id": "udRiIK1cdt6E"
      },
      "source": [
        "# Задача 3\n",
        "Написать функцию, которая принимает положительное число и возвращает количество\n",
        "бит равных 1 в этом числе. Написать тесты для кода"
      ]
    },
    {
      "cell_type": "code",
      "execution_count": null,
      "metadata": {
        "id": "6tkfDJRz6dp_"
      },
      "outputs": [],
      "source": [
        "def bitCount(number):\n",
        "    countBit=0\n",
        "    for b in bin(number):\n",
        "        if b == '1':\n",
        "            countBit = countBit+ 1\n",
        "    return countBit\n",
        "\n",
        "def bitCount_tests():\n",
        "    assert bitCount(8) == 1\n",
        "    assert bitCount(1) == 1\n",
        "    assert bitCount(18) == 2\n",
        "    \n",
        "bitCount_tests()"
      ]
    },
    {
      "cell_type": "markdown",
      "metadata": {
        "id": "26dDUz-Ae17N"
      },
      "source": [
        "# Задача 4\n",
        "Написать функцию, которая принимает положительное число. Функция должна вернуть то,\n",
        "сколько раз необходимо перемножать цифры числа или результат перемножения, чтобы\n",
        "получилось число состоящее из одной цифры.\n",
        "Например, для входного числа:\n",
        "· 39 функция должна вернуть 3, так как 3*9=27 => 2*7=14 => 1*4=4\n",
        "· 4 функция должна вернуть 0, так как число уже состоит из одной цифры\n",
        "· 999 функция должна вернуть 4, так как 9*9*9=729 => 7*2*9=126 => 1*2*6=12 =>\n",
        "1*2=2. Написать тесты для кода"
      ]
    },
    {
      "cell_type": "code",
      "execution_count": null,
      "metadata": {
        "id": "BH1A_Mgi6i4G"
      },
      "outputs": [],
      "source": [
        "def magic(n):\n",
        "    count=0\n",
        "    while(len(str(n))!=1):\n",
        "        result=1\n",
        "        for i in str(n):\n",
        "            result*=int(i)\n",
        "            n=result\n",
        "            count+=1\n",
        "    return count\n",
        "def magic_test():\n",
        "    assert magic(0) == 0\n",
        "    assert magic(1) == 0\n",
        "    assert magic(2) == 0\n",
        "    assert magic(3) == 0\n",
        "    assert magic(7) == 0\n",
        "    assert magic(15) == 1\n",
        "    assert magic(47)==3\n",
        "    assert magic(39)==3\n",
        "    assert magic(999)==4\n",
        "magic_test()"
      ]
    },
    {
      "cell_type": "markdown",
      "metadata": {
        "id": "0nS-kIa8g8vd"
      },
      "source": [
        "# Задача 5\n",
        "Написать функцию, которая принимает два целочисленных вектора одинаковой длины и\n",
        "возвращает среднеквадратическое отклонение двух векторов. Написать тесты для кода"
      ]
    },
    {
      "cell_type": "code",
      "execution_count": null,
      "metadata": {
        "id": "8iphx4LM6xbx"
      },
      "outputs": [],
      "source": [
        "def mse(pred, true):   \n",
        "    res=0\n",
        "    length = len(pred)\n",
        "    for i in range(length):\n",
        "        res = res + ((true[i]-pred[i])**2)\n",
        "    return res/length\n",
        "\n",
        "def mse_tests():\n",
        "    assert mse([1,1,1],[1,1,1]) == 0\n",
        "    assert mse([1,2,3,4],[5,6,7,8]) == 16\n",
        "    \n",
        "mse_tests()"
      ]
    },
    {
      "cell_type": "markdown",
      "metadata": {
        "id": "vpIPKL439zkw"
      },
      "source": [
        "# Задача 6\n",
        "Написать функцию, принимающая целое положительное число. Функция должна вернуть\n",
        "строку вида “(n1**p1)(n2**p2)…(nk**pk)” представляющая разложение числа на простые\n",
        "множители (если pi == 1, то выводить только ni).\n",
        "Например, для числа 86240 функция должна вернуть “(2**5)(5)(7**2)(11)”. Написать тесты для кода"
      ]
    },
    {
      "cell_type": "code",
      "execution_count": null,
      "metadata": {
        "id": "pFebmcZk94Jw"
      },
      "outputs": [],
      "source": [
        "def prime_factor(n):\n",
        "    result = \"\"\n",
        "    for d in range(2, n // 2 + 1):\n",
        "        if n % d == 0:\n",
        "            f = 0 \n",
        "            while n % d == 0:\n",
        "                n = n / d\n",
        "                f += 1\n",
        "            if f == 1:\n",
        "                result += \"(\" + str(d) + \")\"\n",
        "            else:\n",
        "                result += \"(\" + str(d) + \"**\" + str(f) + \")\"\n",
        "    if result == \"\":\n",
        "        result += str(n)\n",
        "        \n",
        "    return result\n",
        "\n",
        "def test(N, answer):\n",
        "    print (\"Введённое число:\", N)\n",
        "    if prime_factor(N) == answer:\n",
        "        print(\"Тест успешно пройден!\")\n",
        "    else:\n",
        "        print(\"Тест не пройден\")\n",
        "\n",
        "test(86240, \"(2**5)(5)(7**2)(11)\")\n",
        "test(8, \"(2**3)\")\n",
        "test(10,\"(2)(5)\")\n",
        "test(1, \"1\")"
      ]
    },
    {
      "cell_type": "markdown",
      "metadata": {
        "id": "ps2s0BudX7A2"
      },
      "source": [
        "# Задача 7\n",
        "Написать функцию, принимающая целое число n, задающее количество кубиков. Функция\n",
        "должна определить, можно ли из данного кол-ва кубиков построить пирамиду, то есть\n",
        "можно ли представить число n как 1^2+2^2+3^2+…+k^2. Если можно, то функция должна\n",
        "вернуть k, иначе строку “It is impossible”. Написать тесты для кода"
      ]
    },
    {
      "cell_type": "code",
      "execution_count": null,
      "metadata": {
        "id": "3YPjEXxhX_YT"
      },
      "outputs": [],
      "source": [
        "def pyramid(number):\n",
        "    reserfnumber=number\n",
        "    count=1\n",
        "    while(reserfnumber>0):\n",
        "        reserfnumber-=count*count\n",
        "        count+=1\n",
        "    return count-1 if (number!=0 and reserfnumber==0) else 'It is impossible'\n",
        "def pyramid_test():\n",
        "    assert pyramid(1) == 1\n",
        "    assert pyramid(5) == 2\n",
        "    assert pyramid(55) == 5\n",
        "    assert pyramid(40) == 'It is impossible'\n",
        "pyramid_test()"
      ]
    },
    {
      "cell_type": "markdown",
      "metadata": {
        "id": "KeKgmIdAQMEJ"
      },
      "source": [
        "# Задача 8\n",
        "Функция принимает на вход положительное число и определяет является ли оно сбалансированным, т.е. сумма цифр до средних равна сумме цифр после. Средними в случае нечетного числа цифр считать одну цифру, в случае четного - две средних. Написать тесты для кода"
      ]
    },
    {
      "cell_type": "code",
      "execution_count": null,
      "metadata": {
        "id": "gMAAqtqlQrZt"
      },
      "outputs": [],
      "source": [
        "def is_balanced(number):\n",
        "    str_number = str(number)\n",
        "    length = len(str_number)\n",
        "    if length % 2 == 0:\n",
        "        first_half = sum(map(int, str_number[:length // 2]))\n",
        "        second_half = sum(map(int, str_number[length // 2:]))\n",
        "    else:\n",
        "        first_half = sum(map(int, str_number[:length // 2]))\n",
        "        second_half = sum(map(int, str_number[length // 2 + 1:]))\n",
        "    return first_half == second_half"
      ]
    }
  ],
  "metadata": {
    "colab": {
      "provenance": []
    },
    "kernelspec": {
      "display_name": "Python 3",
      "name": "python3"
    },
    "language_info": {
      "name": "python"
    }
  },
  "nbformat": 4,
  "nbformat_minor": 0
}
