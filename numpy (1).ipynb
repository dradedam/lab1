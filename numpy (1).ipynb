{
  "cells": [
    {
      "cell_type": "markdown",
      "metadata": {
        "id": "vC84e9kzyxPy"
      },
      "source": [
        "<h1>Импорт библиотек"
      ]
    },
    {
      "cell_type": "code",
      "execution_count": 3,
      "metadata": {
        "id": "cgKeNegmQG5S"
      },
      "outputs": [],
      "source": [
        "import numpy as np\n",
        "import matplotlib.pyplot as plt"
      ]
    },
    {
      "cell_type": "markdown",
      "metadata": {
        "id": "qFM9uVU2x4Ls"
      },
      "source": [
        "<h1>Задача 1. Дан набор из $p$ матриц размерностью $(n, n)$ и $p$ векторов размерностью $(n, 1)$, найти сумму произведений матриц на векторы. Написать тесты для кода"
      ]
    },
    {
      "cell_type": "code",
      "execution_count": null,
      "metadata": {
        "id": "IAbUvEiYyWFF"
      },
      "outputs": [],
      "source": [
        "def sum_prod(X, V):\n",
        "    return np.array(sum(X[i].dot(V[i]) for i in range( len(X))))\n",
        "\n",
        "def tests():\n",
        "    X = [np.array([1, 2]), np.array([3, 4]), np.array([5, 6])]\n",
        "    V = [np.array([2, 3]), np.array([4, 5]), np.array([6, 7])]\n",
        "    res = sum_prod(X, V)\n",
        "    answer = np.array([8, 32, 68])\n",
        "    assert np.array_equal(res, answer) == True\n",
        "    \n",
        "    X = [np.array([2, 3, 4]), np.array([1, 2, 1])]\n",
        "    V = [np.array([1, 2, 1]), np.array([2, 3, 0])]\n",
        "    res = sum_prod(X, V)\n",
        "    answer = np.array([12, 8])\n",
        "    assert np.array_equal(res, answer) == True"
      ]
    },
    {
      "cell_type": "markdown",
      "metadata": {
        "id": "TKwPG4fIy2w4"
      },
      "source": [
        "<h1>Задача 2. Дана матрица M, напишите функцию, которая бинаризует матрицу по некоторому threshold (то есть, все значения большие threshold становятся равными 1, иначе 0). Напишите тесты для кода"
      ]
    },
    {
      "cell_type": "code",
      "execution_count": null,
      "metadata": {
        "id": "KQDNMgsjRNH7"
      },
      "outputs": [],
      "source": [
        "def binarize(M, threshold=0.5):\n",
        "    return np.where(M > threshold, 1, 0)\n",
        "\n",
        "matrix = np.array([[0.6, 0.2, 0.7], [0.6, 0.1, 0.9], [0.9, 0.1, 0.8]])\n",
        "\n",
        "assert np.array_equal(binarize(matrix), np.array([[1, 0, 1], [1, 0, 1], [1, 0, 1]]))"
      ]
    },
    {
      "cell_type": "markdown",
      "metadata": {
        "id": "IY5L-h-7zWhN"
      },
      "source": [
        "<h1>Задача 3. Напишите функцию, которая возвращает уникальные элементы из каждой строки матрицы. Напишите такую же функцию, но для столбцов. Напишите тесты для кода"
      ]
    },
    {
      "cell_type": "code",
      "execution_count": null,
      "metadata": {
        "id": "-8dEZhR0SBC-"
      },
      "outputs": [],
      "source": [
        "def unique_rows(mat):\n",
        "    return [np.unique(row) for row in mat]\n",
        "\n",
        "def unique_columns(mat):\n",
        "    return [np.unique(col) for col in np.transpose(mat)]"
      ]
    },
    {
      "cell_type": "markdown",
      "metadata": {
        "id": "roYAlo4Jz-lH"
      },
      "source": [
        "<h1>Задача 4. Напишите функцию, которая заполняет матрицу с размерами $(m, n)$ случайными числами, распределенными по нормальному закону. Затем считает мат. ожидание и дисперсию для каждого из столбцов и строк, а также строит для каждой строки и столбца гистограмму значений (использовать функцию hist из модуля matplotlib.plot)"
      ]
    },
    {
      "cell_type": "code",
      "execution_count": null,
      "metadata": {
        "id": "nZK_71hMSQzv"
      },
      "outputs": [],
      "source": [
        "def Work_Matrix(m, n):\n",
        "    mat = np.random.randn(m, n)\n",
        "    row_mat = np.mean(mat, axis = 1)\n",
        "    col_mat = np.mean(mat, axis = 0)\n",
        "    row_v = np.var(mat, axis = 1)\n",
        "    col_v = np.var(mat, axis = 0)\n",
        "\n",
        "    for i in range(m):\n",
        "        plt.figure()\n",
        "        plt.subplot(1,2,1)\n",
        "        plt.hist(mat[i, :], bins = n, color =\"b\", edgecolor=\"black\")\n",
        "        plt.title(f\"Row{i+1}\")\n",
        "        plt.show()\n",
        "    for i in range(n):\n",
        "        plt.subplot(1,2,2)\n",
        "        plt.hist(mat[:,i], bins = m, color = \"r\", edgecolor = \"black\")\n",
        "        plt.title(f\"Column {i+1}\")\n",
        "        plt.show()\n",
        "\n",
        "    return row_mat, col_mat, row_v, col_v, mat\n",
        "\n",
        "m = 5\n",
        "n = 3\n",
        "row_mat, col_mat, row_v, col_v, mat  = Work_Matrix(m,n)\n",
        "print(\"Матрица:\", \"\\n\", mat)\n",
        "print(\"Мат.ожидания для строк:\", row_mat)\n",
        "print(\"Мат.ожидания для столбцов:\",col_mat)\n",
        "print(\"Дисперсии для строк:\", row_v)\n",
        "print(\"Дисперсии для столбцов:\", col_v)"
      ]
    },
    {
      "cell_type": "markdown",
      "metadata": {
        "id": "BDyATNdM0dJ2"
      },
      "source": [
        "<h1>Задача 5. Напишите функцию, которая заполняет матрицу $(m, n)$ в шахматном порядке заданными числами $a$ и $b$. Напишите тесты для кода"
      ]
    },
    {
      "cell_type": "code",
      "execution_count": null,
      "metadata": {
        "id": "RWNJYWQGecS6"
      },
      "outputs": [],
      "source": [
        "def chess(m, n, a, b):\n",
        "    M = np.indices((m, n)).sum(axis=0) % 2\n",
        "    M = M*b - (M-1)*a\n",
        "\n",
        "    return M\n",
        "\n",
        "print(chess(5, 5, 2, 9))\n",
        "print()\n",
        "print(chess(2, 6, 9, 2))"
      ]
    },
    {
      "cell_type": "markdown",
      "metadata": {
        "id": "-ymXLtTN0vB6"
      },
      "source": [
        "<h1>Задача 6. Напишите функцию, которая отрисовывает прямоугольник с заданными размерами (a, b) на изображении размера (m, n), цвет фона задайте в схеме RGB, как и цвет прямоугольника. Цвета также должны быть параметрами функции. Напишите аналогичную функцию но для овала с полуосями a и b. Напишите тесты для кода.\n",
        "Примечание: уравнение эллипса (границы овала) можно записать как:\n",
        "<h1>$\\frac{(x-x_0)^2}{a^2}+\\frac{(y-y_0)^2}{b^2}=1$"
      ]
    },
    {
      "cell_type": "code",
      "execution_count": 1,
      "metadata": {
        "id": "sNfl1t_kfOF4"
      },
      "outputs": [],
      "source": [
        "def draw_rectangle(image, m, n, a, b, bg_color, color):\n",
        "    image[:,:] = bg_color\n",
        "    image[len(image[0]) // 2 - a:len(image[0]) // 2 + a, len(image[1]) // 2 - b:len(image[1]) // 2 + b] = color\n",
        "\n",
        "def draw_ellipse(image, m, n, a, b, bg_color, color):\n",
        "    image[:,:] = bg_color\n",
        "    y, x = np.ogrid[:m, :n]\n",
        "    mask = ((x - n // 2) ** 2 / a ** 2 + (y - m // 2) ** 2 / b ** 2) <= 1\n",
        "    image[mask] = color\n",
        "\n",
        "m, n = 100, 100\n",
        "image = np.zeros((m, n, 3), dtype=np.uint8)\n",
        "bg_color = (255, 255, 255)\n",
        "rect_color = (255, 0, 0)\n",
        "ellipse_color = (0, 0, 255)\n",
        "\n",
        "draw_rectangle(image, m, n, 15, 20, bg_color, rect_color)\n",
        "plt.imshow(image)\n",
        "plt.show()\n",
        "\n",
        "draw_ellipse(image, m, n, 15, 20, bg_color, ellipse_color)\n",
        "plt.imshow(image)\n",
        "plt.show()"
      ]
    },
    {
      "cell_type": "markdown",
      "metadata": {
        "id": "S82c38oz244H"
      },
      "source": [
        "<h1>Задача 7. Дан некий временной ряд. Для данного ряда нужно найти его: математическое ожидание, дисперсию, СКО, найти все локальные максимумы и минимумы (локальный максимум - это точка, которая больше своих соседних точек, а локальный минимум - это точка, которая меньше своих соседей), а также вычислить для данного ряда другой ряд, получаемый методом скользящего среднего с размером окна $p$.\n",
        "<h1>Примечание: метод скользящего среднего подразумевает нахождение среднего из подмножетсва ряда размером $p$"
      ]
    },
    {
      "cell_type": "code",
      "execution_count": null,
      "metadata": {
        "id": "Zb9mIVge5MMt"
      },
      "outputs": [],
      "source": [
        "def TimeSeriesAnalysis(ts, p):\n",
        "\n",
        "    mean = np.mean(ts)\n",
        "    var = np.var(ts)\n",
        "    std = np.std(ts)\n",
        "\n",
        "    localMin = []\n",
        "    localMax = []\n",
        "    for i in range(1, len(ts) - 1):\n",
        "        if  ts[i - 1] > ts[i] and ts[i] < ts[i + 1]:\n",
        "            localMin.append(ts[i])\n",
        "        if ts[i - 1] < ts[i] and ts[i] > ts[i + 1]:\n",
        "            localMax.append(ts[i])\n",
        "\n",
        "    smoothedSeries = np.convolve(ts, np.ones(p), mode='valid') / p\n",
        "\n",
        "    return mean, var, std, localMax, localMin, smoothedSeries\n",
        "\n",
        "ts = np.array([1,2,3,4,3,2,5,6,8,3])\n",
        "print(f\"ts: {ts}\")\n",
        "\n",
        "mean, var, std, localMax, localMin, smoothedSeries = TimeSeriesAnalysis(ts, 4)\n",
        "\n",
        "print(f\"Мат.ожидание: {mean}\")\n",
        "print(f\"Дисперсия: {var}\")\n",
        "print(f\"СКО: {std}\")\n",
        "print(f\"Локальные максимумы:: {localMax}\")\n",
        "print(f\"Локальные минимумы: {localMin}\")\n",
        "print(f\"Метод скользящего среднего: {smoothedSeries}\")"
      ]
    },
    {
      "cell_type": "markdown",
      "metadata": {
        "id": "jPkylmOX5O9n"
      },
      "source": [
        "<h1> Задача 8. Дан некоторый вектор с целочисленными метками классов, напишите функцию, которая выполняет one-hot-encoding для данного вектора\n",
        "<h1> One-hot-encoding - представление, в котором на месте метки некоторого класса стоит 1, в остальных позициях стоит 0. Например для вектора [0, 2, 3, 0] one-hot-encoding выглядит как: [[1, 0, 0, 0], [0, 0, 1, 0], [0, 0, 0, 1], [1, 0, 0, 0]]"
      ]
    },
    {
      "cell_type": "code",
      "execution_count": null,
      "metadata": {
        "id": "Y-jlnZvw56lD"
      },
      "outputs": [],
      "source": [
        "def one_hot_encoding(labels):\n",
        "    return np.eye(len(labels), dtype=int)[labels]\n",
        "\n",
        "print(one_hot_encoding([0,2,3,0]))"
      ]
    }
  ],
  "metadata": {
    "colab": {
      "provenance": []
    },
    "kernelspec": {
      "display_name": "Python 3",
      "name": "python3"
    },
    "language_info": {
      "codemirror_mode": {
        "name": "ipython",
        "version": 3
      },
      "file_extension": ".py",
      "mimetype": "text/x-python",
      "name": "python",
      "nbconvert_exporter": "python",
      "pygments_lexer": "ipython3",
      "version": "3.12.0"
    }
  },
  "nbformat": 4,
  "nbformat_minor": 0
}
